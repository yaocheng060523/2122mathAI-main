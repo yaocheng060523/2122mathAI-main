{
 "cells": [
  {
   "cell_type": "markdown",
   "id": "30b59d49",
   "metadata": {},
   "source": [
    "# Power\n",
    "a**b"
   ]
  },
  {
   "cell_type": "code",
   "execution_count": null,
   "id": "0e06761b",
   "metadata": {},
   "outputs": [],
   "source": [
    "5**3"
   ]
  },
  {
   "cell_type": "markdown",
   "id": "006ecc74",
   "metadata": {},
   "source": [
    "# Division"
   ]
  },
  {
   "cell_type": "code",
   "execution_count": null,
   "id": "746ecb67",
   "metadata": {},
   "outputs": [],
   "source": [
    "3/2"
   ]
  },
  {
   "cell_type": "code",
   "execution_count": null,
   "id": "76af99a7",
   "metadata": {},
   "outputs": [],
   "source": [
    "9//5"
   ]
  },
  {
   "cell_type": "markdown",
   "id": "5ffcb5c1",
   "metadata": {},
   "source": [
    "# Modulo"
   ]
  },
  {
   "cell_type": "code",
   "execution_count": null,
   "id": "1d953151",
   "metadata": {},
   "outputs": [],
   "source": [
    "2 % 5"
   ]
  },
  {
   "cell_type": "code",
   "execution_count": null,
   "id": "6f25924f",
   "metadata": {},
   "outputs": [],
   "source": [
    "564 % 7"
   ]
  },
  {
   "cell_type": "markdown",
   "id": "6d12ac79",
   "metadata": {},
   "source": [
    "# Cal. by myself"
   ]
  },
  {
   "cell_type": "code",
   "execution_count": null,
   "id": "787cad6e",
   "metadata": {},
   "outputs": [],
   "source": [
    "a = 3"
   ]
  },
  {
   "cell_type": "code",
   "execution_count": null,
   "id": "7120ec3c",
   "metadata": {},
   "outputs": [],
   "source": [
    "a += 1\n",
    "print(a)"
   ]
  },
  {
   "cell_type": "markdown",
   "id": "3fcd950b",
   "metadata": {},
   "source": [
    "## The same of * / %"
   ]
  },
  {
   "cell_type": "code",
   "execution_count": null,
   "id": "688f82de",
   "metadata": {},
   "outputs": [],
   "source": [
    "a -= 2\n",
    "print(a)"
   ]
  },
  {
   "cell_type": "markdown",
   "id": "9594c44d",
   "metadata": {},
   "source": [
    "---\n",
    "# Funny String"
   ]
  },
  {
   "cell_type": "code",
   "execution_count": null,
   "id": "41e52b50",
   "metadata": {},
   "outputs": [],
   "source": [
    "my_str = \"abc\" + \"efg\"\n",
    "print(my_str)"
   ]
  },
  {
   "cell_type": "code",
   "execution_count": null,
   "id": "b1c37a52",
   "metadata": {},
   "outputs": [],
   "source": [
    "my_str = \"I want to show \\\"\""
   ]
  },
  {
   "cell_type": "code",
   "execution_count": null,
   "id": "dc8e10e9",
   "metadata": {},
   "outputs": [],
   "source": [
    "print(my_str)"
   ]
  },
  {
   "cell_type": "code",
   "execution_count": null,
   "id": "972c35b7",
   "metadata": {},
   "outputs": [],
   "source": [
    "my_line_str = \"\"\"Oh...\n",
    "\n",
    "\n",
    "Hi\"\"\""
   ]
  },
  {
   "cell_type": "code",
   "execution_count": null,
   "id": "7e09355f",
   "metadata": {},
   "outputs": [],
   "source": [
    "print(my_line_str)"
   ]
  },
  {
   "cell_type": "code",
   "execution_count": null,
   "id": "39e22424",
   "metadata": {},
   "outputs": [],
   "source": [
    "my_str = \"Hey you\" * 3\n",
    "print(my_str)"
   ]
  },
  {
   "cell_type": "code",
   "execution_count": null,
   "id": "2e161ca4",
   "metadata": {},
   "outputs": [],
   "source": [
    "print(my_str[2:6])"
   ]
  },
  {
   "cell_type": "code",
   "execution_count": null,
   "id": "a792a137",
   "metadata": {},
   "outputs": [],
   "source": [
    "print(my_str[:])"
   ]
  },
  {
   "cell_type": "code",
   "execution_count": null,
   "id": "6a2ba6b5",
   "metadata": {},
   "outputs": [],
   "source": [
    "print(my_str[5:])"
   ]
  },
  {
   "cell_type": "code",
   "execution_count": null,
   "id": "ce80529f",
   "metadata": {},
   "outputs": [],
   "source": [
    "print(my_str[:7])"
   ]
  },
  {
   "cell_type": "code",
   "execution_count": null,
   "id": "96d14822",
   "metadata": {},
   "outputs": [],
   "source": [
    "print(my_str[-1])"
   ]
  },
  {
   "cell_type": "code",
   "execution_count": null,
   "id": "3b2c232c",
   "metadata": {},
   "outputs": [],
   "source": [
    "print(my_str[:-2])"
   ]
  },
  {
   "cell_type": "code",
   "execution_count": null,
   "id": "12eade90",
   "metadata": {},
   "outputs": [],
   "source": []
  }
 ],
 "metadata": {
  "kernelspec": {
   "display_name": "Python 3 (ipykernel)",
   "language": "python",
   "name": "python3"
  },
  "language_info": {
   "codemirror_mode": {
    "name": "ipython",
    "version": 3
   },
   "file_extension": ".py",
   "mimetype": "text/x-python",
   "name": "python",
   "nbconvert_exporter": "python",
   "pygments_lexer": "ipython3",
   "version": "3.8.11"
  }
 },
 "nbformat": 4,
 "nbformat_minor": 5
}
