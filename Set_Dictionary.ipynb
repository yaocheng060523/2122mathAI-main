{
 "cells": [
  {
   "cell_type": "markdown",
   "id": "dbea1c90",
   "metadata": {},
   "source": [
    "# Set"
   ]
  },
  {
   "cell_type": "markdown",
   "id": "f009b7ce",
   "metadata": {},
   "source": [
    "## use \"in\" to check if element belongs to Set"
   ]
  },
  {
   "cell_type": "code",
   "execution_count": null,
   "id": "2886438f",
   "metadata": {},
   "outputs": [],
   "source": [
    "my_set = {2, 3, 4}"
   ]
  },
  {
   "cell_type": "code",
   "execution_count": null,
   "id": "ae8ed5d0",
   "metadata": {},
   "outputs": [],
   "source": [
    "2 in my_set"
   ]
  },
  {
   "cell_type": "code",
   "execution_count": null,
   "id": "c1b8cfd8",
   "metadata": {
    "scrolled": true
   },
   "outputs": [],
   "source": [
    "4 not in my_set"
   ]
  },
  {
   "cell_type": "markdown",
   "id": "197a17c1",
   "metadata": {},
   "source": [
    "## Unions, Intersections, Complements and Symmetric difference"
   ]
  },
  {
   "cell_type": "code",
   "execution_count": null,
   "id": "b90d787a",
   "metadata": {},
   "outputs": [],
   "source": [
    "my_set = {2, 3, 4}\n",
    "my_set2 = {2, 4, 6}"
   ]
  },
  {
   "cell_type": "code",
   "execution_count": null,
   "id": "83c0bc45",
   "metadata": {},
   "outputs": [],
   "source": [
    "my_set | my_set2"
   ]
  },
  {
   "cell_type": "code",
   "execution_count": null,
   "id": "0d36340e",
   "metadata": {},
   "outputs": [],
   "source": [
    "my_set & my_set2"
   ]
  },
  {
   "cell_type": "code",
   "execution_count": null,
   "id": "7a1aab05",
   "metadata": {},
   "outputs": [],
   "source": [
    "my_set - my_set2"
   ]
  },
  {
   "cell_type": "code",
   "execution_count": null,
   "id": "fabb2cbf",
   "metadata": {},
   "outputs": [],
   "source": [
    "my_set ^ my_set2"
   ]
  },
  {
   "cell_type": "markdown",
   "id": "d49b1e01",
   "metadata": {},
   "source": [
    "# Dictionary"
   ]
  },
  {
   "cell_type": "code",
   "execution_count": null,
   "id": "dbbc005c",
   "metadata": {},
   "outputs": [],
   "source": [
    "my_dic = {\"Name\": \"Raymond\", \"age\": 18}"
   ]
  },
  {
   "cell_type": "code",
   "execution_count": null,
   "id": "d80cd465",
   "metadata": {},
   "outputs": [],
   "source": [
    "my_dic[\"Name\"]"
   ]
  },
  {
   "cell_type": "code",
   "execution_count": null,
   "id": "9694958c",
   "metadata": {},
   "outputs": [],
   "source": [
    "my_dic[\"Name\"] = \"Jack\""
   ]
  },
  {
   "cell_type": "code",
   "execution_count": null,
   "id": "7e07ab66",
   "metadata": {},
   "outputs": [],
   "source": [
    "my_dic"
   ]
  },
  {
   "cell_type": "code",
   "execution_count": null,
   "id": "77a77fe8",
   "metadata": {},
   "outputs": [],
   "source": [
    "\"Name\" in my_dic # check key"
   ]
  },
  {
   "cell_type": "markdown",
   "id": "b28aeb41",
   "metadata": {},
   "source": [
    "# Use \"del\" to delete"
   ]
  },
  {
   "cell_type": "code",
   "execution_count": null,
   "id": "11bae617",
   "metadata": {},
   "outputs": [],
   "source": [
    "my_dic"
   ]
  },
  {
   "cell_type": "code",
   "execution_count": null,
   "id": "2b6d2df7",
   "metadata": {},
   "outputs": [],
   "source": [
    "del my_dic[\"age\"]"
   ]
  },
  {
   "cell_type": "code",
   "execution_count": null,
   "id": "3521b38c",
   "metadata": {},
   "outputs": [],
   "source": [
    "my_dic"
   ]
  },
  {
   "cell_type": "markdown",
   "id": "13b21938",
   "metadata": {},
   "source": [
    "# Add"
   ]
  },
  {
   "cell_type": "code",
   "execution_count": null,
   "id": "4b795d12",
   "metadata": {},
   "outputs": [],
   "source": [
    "my_dic[\"age\"] = 25"
   ]
  },
  {
   "cell_type": "code",
   "execution_count": null,
   "id": "27cd7cb8",
   "metadata": {},
   "outputs": [],
   "source": [
    "my_dic"
   ]
  },
  {
   "cell_type": "code",
   "execution_count": null,
   "id": "fed9b5fa",
   "metadata": {},
   "outputs": [],
   "source": []
  }
 ],
 "metadata": {
  "kernelspec": {
   "display_name": "Python 3 (ipykernel)",
   "language": "python",
   "name": "python3"
  },
  "language_info": {
   "codemirror_mode": {
    "name": "ipython",
    "version": 3
   },
   "file_extension": ".py",
   "mimetype": "text/x-python",
   "name": "python",
   "nbconvert_exporter": "python",
   "pygments_lexer": "ipython3",
   "version": "3.8.11"
  }
 },
 "nbformat": 4,
 "nbformat_minor": 5
}
