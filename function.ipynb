{
 "cells": [
  {
   "cell_type": "code",
   "execution_count": null,
   "id": "900aad5f",
   "metadata": {},
   "outputs": [],
   "source": [
    "def SayYo():\n",
    "    print(\"Yo\")"
   ]
  },
  {
   "cell_type": "code",
   "execution_count": null,
   "id": "341d0a32",
   "metadata": {},
   "outputs": [],
   "source": [
    "SayYo()"
   ]
  },
  {
   "cell_type": "code",
   "execution_count": null,
   "id": "455a787c",
   "metadata": {},
   "outputs": [],
   "source": [
    "def CopyCat(msg):\n",
    "    print(msg)"
   ]
  },
  {
   "cell_type": "code",
   "execution_count": null,
   "id": "59b97e39",
   "metadata": {},
   "outputs": [],
   "source": [
    "CopyCat(\"Hi\")"
   ]
  },
  {
   "cell_type": "code",
   "execution_count": null,
   "id": "3b0cb0a1",
   "metadata": {},
   "outputs": [],
   "source": [
    "def add(n1, n2):\n",
    "    result = n1 + n2\n",
    "    print(result)"
   ]
  },
  {
   "cell_type": "code",
   "execution_count": null,
   "id": "b6eea686",
   "metadata": {},
   "outputs": [],
   "source": [
    "add(2, 9)"
   ]
  },
  {
   "cell_type": "code",
   "execution_count": null,
   "id": "04622953",
   "metadata": {},
   "outputs": [],
   "source": [
    "def multiply(n1, n2):\n",
    "    result = n1 * n2\n",
    "    return result"
   ]
  },
  {
   "cell_type": "code",
   "execution_count": null,
   "id": "422060b1",
   "metadata": {},
   "outputs": [],
   "source": [
    "multiply(5, 6)"
   ]
  },
  {
   "cell_type": "code",
   "execution_count": null,
   "id": "c3ff3df9",
   "metadata": {},
   "outputs": [],
   "source": [
    "a = multiply(2, 3)"
   ]
  },
  {
   "cell_type": "code",
   "execution_count": null,
   "id": "12622bb9",
   "metadata": {},
   "outputs": [],
   "source": [
    "a"
   ]
  },
  {
   "cell_type": "markdown",
   "id": "cc302dcc",
   "metadata": {},
   "source": [
    "# Fibonacci Function"
   ]
  },
  {
   "cell_type": "code",
   "execution_count": null,
   "id": "a3c9d6e1",
   "metadata": {},
   "outputs": [],
   "source": [
    "def fib(n):\n",
    "    if (n == 1 or n == 2):\n",
    "        return 1\n",
    "    else:\n",
    "        return(fib(n - 1) + fib(n - 2))"
   ]
  },
  {
   "cell_type": "code",
   "execution_count": null,
   "id": "cd554225",
   "metadata": {},
   "outputs": [],
   "source": [
    "i = int(input(\">> \"))\n",
    "for x in range(1, i + 1):\n",
    "    print(str(fib(x)) + \"\\t\", end = \"\")"
   ]
  },
  {
   "cell_type": "code",
   "execution_count": null,
   "id": "af0cf1b7",
   "metadata": {},
   "outputs": [],
   "source": []
  }
 ],
 "metadata": {
  "kernelspec": {
   "display_name": "Python 3 (ipykernel)",
   "language": "python",
   "name": "python3"
  },
  "language_info": {
   "codemirror_mode": {
    "name": "ipython",
    "version": 3
   },
   "file_extension": ".py",
   "mimetype": "text/x-python",
   "name": "python",
   "nbconvert_exporter": "python",
   "pygments_lexer": "ipython3",
   "version": "3.8.11"
  }
 },
 "nbformat": 4,
 "nbformat_minor": 5
}
