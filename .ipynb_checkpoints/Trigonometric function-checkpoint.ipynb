{
 "cells": [
  {
   "cell_type": "code",
   "execution_count": 1,
   "id": "3460bb64",
   "metadata": {},
   "outputs": [],
   "source": [
    "%matplotlib inline\n",
    "\n",
    "import numpy as np\n",
    "import matplotlib.pyplot as plt\n",
    "from ipywidgets import interact, interact_manual"
   ]
  },
  {
   "cell_type": "code",
   "execution_count": 2,
   "id": "be7bb8a8",
   "metadata": {},
   "outputs": [],
   "source": [
    "x = np.linspace(0, 2*np.pi, 1000)\n",
    "\n",
    "def drawsine(A, omega, phi):   \n",
    "    y = A * np.sin(omega * x + phi) \n",
    "    plt.plot(x,y, lw=1, label = \"$\\sin$\")\n",
    "    plt.xticks([0, np.pi/2, np.pi, 3*np.pi/2, 2*np.pi],\n",
    "              ['$0$', '$\\pi/2$', '$\\pi$', '$3\\pi/2$', '$2\\pi$']);\n",
    "    plt.grid(color='k', linestyle='--', alpha = 0.3, linewidth=1)\n",
    "    plt.legend(loc = 1)\n",
    "    plt.show()"
   ]
  },
  {
   "cell_type": "code",
   "execution_count": 3,
   "id": "a0a4d132",
   "metadata": {},
   "outputs": [
    {
     "data": {
      "application/vnd.jupyter.widget-view+json": {
       "model_id": "6793f57cba2a4133a0d4a8bfef906138",
       "version_major": 2,
       "version_minor": 0
      },
      "text/plain": [
       "interactive(children=(FloatSlider(value=2.0, description='A', max=3.0, min=1.0), FloatSlider(value=0.0, descri…"
      ]
     },
     "metadata": {},
     "output_type": "display_data"
    },
    {
     "data": {
      "text/plain": [
       "<function __main__.drawsine(A, omega, phi)>"
      ]
     },
     "execution_count": 3,
     "metadata": {},
     "output_type": "execute_result"
    }
   ],
   "source": [
    "interact(drawsine, A=(1., 3.), omega = (-2., 2.), phi = (-2 * np.pi, 2 * np.pi))"
   ]
  },
  {
   "cell_type": "code",
   "execution_count": 4,
   "id": "8dbfdf66",
   "metadata": {},
   "outputs": [
    {
     "data": {
      "application/vnd.jupyter.widget-view+json": {
       "model_id": "35a10aa1b9ef4636aa22606bfa02aac8",
       "version_major": 2,
       "version_minor": 0
      },
      "text/plain": [
       "interactive(children=(FloatSlider(value=2.0, description='A', max=3.0, min=1.0), FloatSlider(value=0.0, descri…"
      ]
     },
     "metadata": {},
     "output_type": "display_data"
    },
    {
     "data": {
      "text/plain": [
       "<function __main__.drawsine(A, omega, phi)>"
      ]
     },
     "execution_count": 4,
     "metadata": {},
     "output_type": "execute_result"
    }
   ],
   "source": [
    "interact_manual(drawsine, A=(1., 3.), omega = (-2., 2.), phi = (-2 * np.pi, 2 * np.pi))"
   ]
  },
  {
   "cell_type": "code",
   "execution_count": 5,
   "id": "60b985a1",
   "metadata": {},
   "outputs": [],
   "source": [
    "def drawsinecosine(A, omega, phi):   \n",
    "    y = A * np.sin(omega * x + phi) \n",
    "    plt.plot(x,y, lw=1, label = \"$\\sin$\")\n",
    "    \n",
    "    y = A * np.cos(omega * x + phi) \n",
    "    plt.plot(x,y, lw=1, label = \"$\\cos$\")\n",
    "    plt.xticks([0, np.pi/2, np.pi, 3*np.pi/2, 2*np.pi],\n",
    "              ['$0$', '$\\pi/2$', '$\\pi$', '$3\\pi/2$', '$2\\pi$'])\n",
    "    plt.grid(color='k', linestyle='--', alpha = 0.3, linewidth=1)\n",
    "    plt.legend(loc = 1)\n",
    "    # plt.show()\n",
    "    plt.show()"
   ]
  },
  {
   "cell_type": "code",
   "execution_count": 6,
   "id": "b12e4fd9",
   "metadata": {},
   "outputs": [
    {
     "data": {
      "application/vnd.jupyter.widget-view+json": {
       "model_id": "fae51f8f7d7c48feab61e320d388815c",
       "version_major": 2,
       "version_minor": 0
      },
      "text/plain": [
       "interactive(children=(FloatSlider(value=2.0, description='A', max=3.0, min=1.0), FloatSlider(value=0.0, descri…"
      ]
     },
     "metadata": {},
     "output_type": "display_data"
    },
    {
     "data": {
      "text/plain": [
       "<function __main__.drawsinecosine(A, omega, phi)>"
      ]
     },
     "execution_count": 6,
     "metadata": {},
     "output_type": "execute_result"
    }
   ],
   "source": [
    "interact(drawsinecosine, A=(1., 3.), omega = (-2., 2.), phi = (-2 * np.pi, 2 * np.pi))"
   ]
  },
  {
   "cell_type": "code",
   "execution_count": null,
   "id": "99885544",
   "metadata": {},
   "outputs": [],
   "source": []
  }
 ],
 "metadata": {
  "kernelspec": {
   "display_name": "Python 3",
   "language": "python",
   "name": "python3"
  },
  "language_info": {
   "codemirror_mode": {
    "name": "ipython",
    "version": 3
   },
   "file_extension": ".py",
   "mimetype": "text/x-python",
   "name": "python",
   "nbconvert_exporter": "python",
   "pygments_lexer": "ipython3",
   "version": "3.6.5"
  }
 },
 "nbformat": 4,
 "nbformat_minor": 5
}
