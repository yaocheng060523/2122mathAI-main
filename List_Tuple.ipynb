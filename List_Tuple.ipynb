{
 "cells": [
  {
   "cell_type": "markdown",
   "id": "ff4c427d",
   "metadata": {},
   "source": [
    "# List"
   ]
  },
  {
   "cell_type": "code",
   "execution_count": null,
   "id": "de479459",
   "metadata": {},
   "outputs": [],
   "source": [
    "my_list = [1, 3, 59, 12, 328]"
   ]
  },
  {
   "cell_type": "markdown",
   "id": "f9319934",
   "metadata": {},
   "source": [
    "First index is 0"
   ]
  },
  {
   "cell_type": "code",
   "execution_count": null,
   "id": "6660f253",
   "metadata": {},
   "outputs": [],
   "source": [
    "my_list[0]"
   ]
  },
  {
   "cell_type": "code",
   "execution_count": null,
   "id": "42e92bdb",
   "metadata": {},
   "outputs": [],
   "source": [
    "my_list[3]"
   ]
  },
  {
   "cell_type": "markdown",
   "id": "246917c6",
   "metadata": {},
   "source": [
    "Change value as you want"
   ]
  },
  {
   "cell_type": "code",
   "execution_count": null,
   "id": "f70ff2ed",
   "metadata": {},
   "outputs": [],
   "source": [
    "my_list[1] = 5"
   ]
  },
  {
   "cell_type": "code",
   "execution_count": null,
   "id": "9ff7fc0b",
   "metadata": {},
   "outputs": [],
   "source": [
    "my_list"
   ]
  },
  {
   "cell_type": "markdown",
   "id": "dc79d151",
   "metadata": {},
   "source": [
    "use \":\"\n",
    "\n",
    "\"a:b\" means \"a, a+1, a+2, ..., b-1\""
   ]
  },
  {
   "cell_type": "code",
   "execution_count": null,
   "id": "4901c819",
   "metadata": {},
   "outputs": [],
   "source": [
    "my_list[:]"
   ]
  },
  {
   "cell_type": "code",
   "execution_count": null,
   "id": "54e9ad99",
   "metadata": {},
   "outputs": [],
   "source": [
    "my_list[1:3]"
   ]
  },
  {
   "cell_type": "markdown",
   "id": "83e29dcd",
   "metadata": {},
   "source": [
    "## Delete and Add"
   ]
  },
  {
   "cell_type": "code",
   "execution_count": null,
   "id": "8ec62bc1",
   "metadata": {},
   "outputs": [],
   "source": [
    "my_list[1:3] = []"
   ]
  },
  {
   "cell_type": "code",
   "execution_count": null,
   "id": "beb32aa3",
   "metadata": {},
   "outputs": [],
   "source": [
    "my_list[:]"
   ]
  },
  {
   "cell_type": "code",
   "execution_count": null,
   "id": "88cc9e37",
   "metadata": {},
   "outputs": [],
   "source": [
    "my_list + [33, 55]"
   ]
  },
  {
   "cell_type": "code",
   "execution_count": null,
   "id": "fad0cccd",
   "metadata": {},
   "outputs": [],
   "source": [
    "my_list"
   ]
  },
  {
   "cell_type": "code",
   "execution_count": null,
   "id": "4bbf0801",
   "metadata": {},
   "outputs": [],
   "source": [
    "my_list = my_list + [33, 55]"
   ]
  },
  {
   "cell_type": "code",
   "execution_count": null,
   "id": "034d86a4",
   "metadata": {},
   "outputs": [],
   "source": [
    "my_list"
   ]
  },
  {
   "cell_type": "markdown",
   "id": "73cb6a05",
   "metadata": {},
   "source": [
    "## len"
   ]
  },
  {
   "cell_type": "code",
   "execution_count": null,
   "id": "da251e56",
   "metadata": {},
   "outputs": [],
   "source": [
    "len(my_list)"
   ]
  },
  {
   "cell_type": "code",
   "execution_count": null,
   "id": "5c04a06e",
   "metadata": {},
   "outputs": [],
   "source": [
    "my_2dlist = [[2, 3, 5], [6, 8, 9]]"
   ]
  },
  {
   "cell_type": "code",
   "execution_count": null,
   "id": "7d2a35b4",
   "metadata": {},
   "outputs": [],
   "source": [
    "my_2dlist[0]"
   ]
  },
  {
   "cell_type": "code",
   "execution_count": null,
   "id": "cf4b50c3",
   "metadata": {},
   "outputs": [],
   "source": [
    "my_2dlist[0][1]"
   ]
  },
  {
   "cell_type": "code",
   "execution_count": null,
   "id": "e662864b",
   "metadata": {},
   "outputs": [],
   "source": [
    "my_2dlist[1][:]"
   ]
  },
  {
   "cell_type": "code",
   "execution_count": null,
   "id": "658ef445",
   "metadata": {},
   "outputs": [],
   "source": [
    "my_2dlist[0][0:2] = [1, 1, 1]"
   ]
  },
  {
   "cell_type": "code",
   "execution_count": null,
   "id": "b46c1588",
   "metadata": {},
   "outputs": [],
   "source": [
    "my_2dlist"
   ]
  },
  {
   "cell_type": "markdown",
   "id": "3b793c01",
   "metadata": {},
   "source": [
    "# Tuple"
   ]
  },
  {
   "cell_type": "code",
   "execution_count": null,
   "id": "d71723e2",
   "metadata": {},
   "outputs": [],
   "source": [
    "my_tuple = (1, 2, 3)"
   ]
  },
  {
   "cell_type": "code",
   "execution_count": null,
   "id": "8b52b97f",
   "metadata": {},
   "outputs": [],
   "source": [
    "my_tuple"
   ]
  },
  {
   "cell_type": "code",
   "execution_count": null,
   "id": "4302655e",
   "metadata": {},
   "outputs": [],
   "source": [
    "my_tuple[0]"
   ]
  },
  {
   "cell_type": "code",
   "execution_count": null,
   "id": "43120fbe",
   "metadata": {},
   "outputs": [],
   "source": [
    "my_tuple[0] = 5"
   ]
  },
  {
   "cell_type": "code",
   "execution_count": null,
   "id": "116c7825",
   "metadata": {},
   "outputs": [],
   "source": [
    "len(my_tuple)"
   ]
  },
  {
   "cell_type": "code",
   "execution_count": null,
   "id": "538d3ec8",
   "metadata": {},
   "outputs": [],
   "source": []
  }
 ],
 "metadata": {
  "kernelspec": {
   "display_name": "Python 3 (ipykernel)",
   "language": "python",
   "name": "python3"
  },
  "language_info": {
   "codemirror_mode": {
    "name": "ipython",
    "version": 3
   },
   "file_extension": ".py",
   "mimetype": "text/x-python",
   "name": "python",
   "nbconvert_exporter": "python",
   "pygments_lexer": "ipython3",
   "version": "3.8.11"
  }
 },
 "nbformat": 4,
 "nbformat_minor": 5
}
